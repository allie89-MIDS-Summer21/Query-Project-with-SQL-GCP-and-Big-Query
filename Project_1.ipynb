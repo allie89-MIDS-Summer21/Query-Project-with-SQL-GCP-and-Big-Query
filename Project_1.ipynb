{
 "cells": [
  {
   "cell_type": "markdown",
   "id": "8f77034c",
   "metadata": {},
   "source": [
    "### Importing libraries to begin analysis"
   ]
  },
  {
   "cell_type": "code",
   "execution_count": 1,
   "id": "7632c57e",
   "metadata": {},
   "outputs": [],
   "source": [
    "import pandas as pd\n",
    "import matplotlib.pyplot as plt\n",
    "import seaborn as sns"
   ]
  },
  {
   "cell_type": "markdown",
   "id": "b7d91d94",
   "metadata": {},
   "source": [
    "### Looking for the most popular starting station for any trip. Appears as Caltrains are the 2 most popular, which can possibly imply those are trips taken by commuters."
   ]
  },
  {
   "cell_type": "code",
   "execution_count": 3,
   "id": "88570b4d",
   "metadata": {},
   "outputs": [
    {
     "name": "stderr",
     "output_type": "stream",
     "text": [
      "Query complete after 0.00s: 100%|██████████| 1/1 [00:00<00:00, 682.44query/s] \n",
      "Downloading: 100%|██████████| 10/10 [00:01<00:00,  7.70rows/s]\n"
     ]
    }
   ],
   "source": [
    "%%bigquery start_station_df\n",
    "select count(trip_id), start_station_name\n",
    "from `bigquery-public-data.san_francisco.bikeshare_trips`\n",
    "group by start_station_name\n",
    "order by count(trip_id) desc\n",
    "limit 10"
   ]
  },
  {
   "cell_type": "code",
   "execution_count": 4,
   "id": "cf903e56",
   "metadata": {},
   "outputs": [
    {
     "data": {
      "text/html": [
       "<div>\n",
       "<style scoped>\n",
       "    .dataframe tbody tr th:only-of-type {\n",
       "        vertical-align: middle;\n",
       "    }\n",
       "\n",
       "    .dataframe tbody tr th {\n",
       "        vertical-align: top;\n",
       "    }\n",
       "\n",
       "    .dataframe thead th {\n",
       "        text-align: right;\n",
       "    }\n",
       "</style>\n",
       "<table border=\"1\" class=\"dataframe\">\n",
       "  <thead>\n",
       "    <tr style=\"text-align: right;\">\n",
       "      <th></th>\n",
       "      <th>f0_</th>\n",
       "      <th>start_station_name</th>\n",
       "    </tr>\n",
       "  </thead>\n",
       "  <tbody>\n",
       "    <tr>\n",
       "      <th>0</th>\n",
       "      <td>72683</td>\n",
       "      <td>San Francisco Caltrain (Townsend at 4th)</td>\n",
       "    </tr>\n",
       "    <tr>\n",
       "      <th>1</th>\n",
       "      <td>56100</td>\n",
       "      <td>San Francisco Caltrain 2 (330 Townsend)</td>\n",
       "    </tr>\n",
       "    <tr>\n",
       "      <th>2</th>\n",
       "      <td>49062</td>\n",
       "      <td>Harry Bridges Plaza (Ferry Building)</td>\n",
       "    </tr>\n",
       "    <tr>\n",
       "      <th>3</th>\n",
       "      <td>41137</td>\n",
       "      <td>Embarcadero at Sansome</td>\n",
       "    </tr>\n",
       "    <tr>\n",
       "      <th>4</th>\n",
       "      <td>39936</td>\n",
       "      <td>2nd at Townsend</td>\n",
       "    </tr>\n",
       "    <tr>\n",
       "      <th>5</th>\n",
       "      <td>39200</td>\n",
       "      <td>Temporary Transbay Terminal (Howard at Beale)</td>\n",
       "    </tr>\n",
       "    <tr>\n",
       "      <th>6</th>\n",
       "      <td>38531</td>\n",
       "      <td>Steuart at Market</td>\n",
       "    </tr>\n",
       "    <tr>\n",
       "      <th>7</th>\n",
       "      <td>35142</td>\n",
       "      <td>Market at Sansome</td>\n",
       "    </tr>\n",
       "    <tr>\n",
       "      <th>8</th>\n",
       "      <td>34894</td>\n",
       "      <td>Townsend at 7th</td>\n",
       "    </tr>\n",
       "    <tr>\n",
       "      <th>9</th>\n",
       "      <td>30209</td>\n",
       "      <td>Market at 10th</td>\n",
       "    </tr>\n",
       "  </tbody>\n",
       "</table>\n",
       "</div>"
      ],
      "text/plain": [
       "     f0_                             start_station_name\n",
       "0  72683       San Francisco Caltrain (Townsend at 4th)\n",
       "1  56100        San Francisco Caltrain 2 (330 Townsend)\n",
       "2  49062           Harry Bridges Plaza (Ferry Building)\n",
       "3  41137                         Embarcadero at Sansome\n",
       "4  39936                                2nd at Townsend\n",
       "5  39200  Temporary Transbay Terminal (Howard at Beale)\n",
       "6  38531                              Steuart at Market\n",
       "7  35142                              Market at Sansome\n",
       "8  34894                                Townsend at 7th\n",
       "9  30209                                 Market at 10th"
      ]
     },
     "execution_count": 4,
     "metadata": {},
     "output_type": "execute_result"
    }
   ],
   "source": [
    "start_station_df"
   ]
  },
  {
   "cell_type": "markdown",
   "id": "d331b475",
   "metadata": {},
   "source": [
    "### Looking at the trips where starting stations and ending stations are different."
   ]
  },
  {
   "cell_type": "code",
   "execution_count": 5,
   "id": "56788664",
   "metadata": {},
   "outputs": [
    {
     "name": "stderr",
     "output_type": "stream",
     "text": [
      "Query complete after 0.00s: 100%|██████████| 1/1 [00:00<00:00, 663.76query/s] \n",
      "Downloading: 100%|██████████| 10/10 [00:01<00:00,  7.77rows/s]\n"
     ]
    }
   ],
   "source": [
    "%%bigquery diff_end_station_df\n",
    "\n",
    "select count(trip_id), start_station_name, end_station_name\n",
    "from `bigquery-public-data.san_francisco.bikeshare_trips`\n",
    "where start_station_name != end_station_name\n",
    "group by start_station_name, end_station_name\n",
    "order by count(trip_id) desc\n",
    "limit 10"
   ]
  },
  {
   "cell_type": "code",
   "execution_count": 6,
   "id": "210a4dd6",
   "metadata": {},
   "outputs": [
    {
     "data": {
      "text/html": [
       "<div>\n",
       "<style scoped>\n",
       "    .dataframe tbody tr th:only-of-type {\n",
       "        vertical-align: middle;\n",
       "    }\n",
       "\n",
       "    .dataframe tbody tr th {\n",
       "        vertical-align: top;\n",
       "    }\n",
       "\n",
       "    .dataframe thead th {\n",
       "        text-align: right;\n",
       "    }\n",
       "</style>\n",
       "<table border=\"1\" class=\"dataframe\">\n",
       "  <thead>\n",
       "    <tr style=\"text-align: right;\">\n",
       "      <th></th>\n",
       "      <th>f0_</th>\n",
       "      <th>start_station_name</th>\n",
       "      <th>end_station_name</th>\n",
       "    </tr>\n",
       "  </thead>\n",
       "  <tbody>\n",
       "    <tr>\n",
       "      <th>0</th>\n",
       "      <td>9150</td>\n",
       "      <td>Harry Bridges Plaza (Ferry Building)</td>\n",
       "      <td>Embarcadero at Sansome</td>\n",
       "    </tr>\n",
       "    <tr>\n",
       "      <th>1</th>\n",
       "      <td>8508</td>\n",
       "      <td>San Francisco Caltrain 2 (330 Townsend)</td>\n",
       "      <td>Townsend at 7th</td>\n",
       "    </tr>\n",
       "    <tr>\n",
       "      <th>2</th>\n",
       "      <td>7620</td>\n",
       "      <td>2nd at Townsend</td>\n",
       "      <td>Harry Bridges Plaza (Ferry Building)</td>\n",
       "    </tr>\n",
       "    <tr>\n",
       "      <th>3</th>\n",
       "      <td>6888</td>\n",
       "      <td>Harry Bridges Plaza (Ferry Building)</td>\n",
       "      <td>2nd at Townsend</td>\n",
       "    </tr>\n",
       "    <tr>\n",
       "      <th>4</th>\n",
       "      <td>6874</td>\n",
       "      <td>Embarcadero at Sansome</td>\n",
       "      <td>Steuart at Market</td>\n",
       "    </tr>\n",
       "    <tr>\n",
       "      <th>5</th>\n",
       "      <td>6836</td>\n",
       "      <td>Townsend at 7th</td>\n",
       "      <td>San Francisco Caltrain 2 (330 Townsend)</td>\n",
       "    </tr>\n",
       "    <tr>\n",
       "      <th>6</th>\n",
       "      <td>6351</td>\n",
       "      <td>Embarcadero at Folsom</td>\n",
       "      <td>San Francisco Caltrain (Townsend at 4th)</td>\n",
       "    </tr>\n",
       "    <tr>\n",
       "      <th>7</th>\n",
       "      <td>6215</td>\n",
       "      <td>San Francisco Caltrain (Townsend at 4th)</td>\n",
       "      <td>Harry Bridges Plaza (Ferry Building)</td>\n",
       "    </tr>\n",
       "    <tr>\n",
       "      <th>8</th>\n",
       "      <td>6039</td>\n",
       "      <td>Steuart at Market</td>\n",
       "      <td>2nd at Townsend</td>\n",
       "    </tr>\n",
       "    <tr>\n",
       "      <th>9</th>\n",
       "      <td>5959</td>\n",
       "      <td>Steuart at Market</td>\n",
       "      <td>San Francisco Caltrain (Townsend at 4th)</td>\n",
       "    </tr>\n",
       "  </tbody>\n",
       "</table>\n",
       "</div>"
      ],
      "text/plain": [
       "    f0_                        start_station_name  \\\n",
       "0  9150      Harry Bridges Plaza (Ferry Building)   \n",
       "1  8508   San Francisco Caltrain 2 (330 Townsend)   \n",
       "2  7620                           2nd at Townsend   \n",
       "3  6888      Harry Bridges Plaza (Ferry Building)   \n",
       "4  6874                    Embarcadero at Sansome   \n",
       "5  6836                           Townsend at 7th   \n",
       "6  6351                     Embarcadero at Folsom   \n",
       "7  6215  San Francisco Caltrain (Townsend at 4th)   \n",
       "8  6039                         Steuart at Market   \n",
       "9  5959                         Steuart at Market   \n",
       "\n",
       "                           end_station_name  \n",
       "0                    Embarcadero at Sansome  \n",
       "1                           Townsend at 7th  \n",
       "2      Harry Bridges Plaza (Ferry Building)  \n",
       "3                           2nd at Townsend  \n",
       "4                         Steuart at Market  \n",
       "5   San Francisco Caltrain 2 (330 Townsend)  \n",
       "6  San Francisco Caltrain (Townsend at 4th)  \n",
       "7      Harry Bridges Plaza (Ferry Building)  \n",
       "8                           2nd at Townsend  \n",
       "9  San Francisco Caltrain (Townsend at 4th)  "
      ]
     },
     "execution_count": 6,
     "metadata": {},
     "output_type": "execute_result"
    }
   ],
   "source": [
    "diff_end_station_df"
   ]
  },
  {
   "cell_type": "markdown",
   "id": "74077544",
   "metadata": {},
   "source": [
    "### Looking at the trips where starting stations and ending stations are the same."
   ]
  },
  {
   "cell_type": "code",
   "execution_count": 7,
   "id": "39ecc07b",
   "metadata": {},
   "outputs": [
    {
     "name": "stderr",
     "output_type": "stream",
     "text": [
      "Query complete after 0.00s: 100%|██████████| 1/1 [00:00<00:00, 704.21query/s] \n",
      "Downloading: 100%|██████████| 10/10 [00:01<00:00,  7.14rows/s]\n"
     ]
    }
   ],
   "source": [
    "%%bigquery same_end_station_df\n",
    "\n",
    "select count(trip_id), start_station_name, end_station_name\n",
    "from `bigquery-public-data.san_francisco.bikeshare_trips`\n",
    "where start_station_name = end_station_name\n",
    "group by start_station_name, end_station_name\n",
    "order by count(trip_id) desc\n",
    "limit 10"
   ]
  },
  {
   "cell_type": "code",
   "execution_count": 8,
   "id": "a5ab7e3f",
   "metadata": {},
   "outputs": [
    {
     "data": {
      "text/html": [
       "<div>\n",
       "<style scoped>\n",
       "    .dataframe tbody tr th:only-of-type {\n",
       "        vertical-align: middle;\n",
       "    }\n",
       "\n",
       "    .dataframe tbody tr th {\n",
       "        vertical-align: top;\n",
       "    }\n",
       "\n",
       "    .dataframe thead th {\n",
       "        text-align: right;\n",
       "    }\n",
       "</style>\n",
       "<table border=\"1\" class=\"dataframe\">\n",
       "  <thead>\n",
       "    <tr style=\"text-align: right;\">\n",
       "      <th></th>\n",
       "      <th>f0_</th>\n",
       "      <th>start_station_name</th>\n",
       "      <th>end_station_name</th>\n",
       "    </tr>\n",
       "  </thead>\n",
       "  <tbody>\n",
       "    <tr>\n",
       "      <th>0</th>\n",
       "      <td>2866</td>\n",
       "      <td>Embarcadero at Sansome</td>\n",
       "      <td>Embarcadero at Sansome</td>\n",
       "    </tr>\n",
       "    <tr>\n",
       "      <th>1</th>\n",
       "      <td>2364</td>\n",
       "      <td>Harry Bridges Plaza (Ferry Building)</td>\n",
       "      <td>Harry Bridges Plaza (Ferry Building)</td>\n",
       "    </tr>\n",
       "    <tr>\n",
       "      <th>2</th>\n",
       "      <td>1184</td>\n",
       "      <td>University and Emerson</td>\n",
       "      <td>University and Emerson</td>\n",
       "    </tr>\n",
       "    <tr>\n",
       "      <th>3</th>\n",
       "      <td>944</td>\n",
       "      <td>Market at 4th</td>\n",
       "      <td>Market at 4th</td>\n",
       "    </tr>\n",
       "    <tr>\n",
       "      <th>4</th>\n",
       "      <td>911</td>\n",
       "      <td>Steuart at Market</td>\n",
       "      <td>Steuart at Market</td>\n",
       "    </tr>\n",
       "    <tr>\n",
       "      <th>5</th>\n",
       "      <td>895</td>\n",
       "      <td>2nd at Townsend</td>\n",
       "      <td>2nd at Townsend</td>\n",
       "    </tr>\n",
       "    <tr>\n",
       "      <th>6</th>\n",
       "      <td>843</td>\n",
       "      <td>Market at 10th</td>\n",
       "      <td>Market at 10th</td>\n",
       "    </tr>\n",
       "    <tr>\n",
       "      <th>7</th>\n",
       "      <td>840</td>\n",
       "      <td>Embarcadero at Vallejo</td>\n",
       "      <td>Embarcadero at Vallejo</td>\n",
       "    </tr>\n",
       "    <tr>\n",
       "      <th>8</th>\n",
       "      <td>827</td>\n",
       "      <td>Davis at Jackson</td>\n",
       "      <td>Davis at Jackson</td>\n",
       "    </tr>\n",
       "    <tr>\n",
       "      <th>9</th>\n",
       "      <td>822</td>\n",
       "      <td>Powell at Post (Union Square)</td>\n",
       "      <td>Powell at Post (Union Square)</td>\n",
       "    </tr>\n",
       "  </tbody>\n",
       "</table>\n",
       "</div>"
      ],
      "text/plain": [
       "    f0_                    start_station_name  \\\n",
       "0  2866                Embarcadero at Sansome   \n",
       "1  2364  Harry Bridges Plaza (Ferry Building)   \n",
       "2  1184                University and Emerson   \n",
       "3   944                         Market at 4th   \n",
       "4   911                     Steuart at Market   \n",
       "5   895                       2nd at Townsend   \n",
       "6   843                        Market at 10th   \n",
       "7   840                Embarcadero at Vallejo   \n",
       "8   827                      Davis at Jackson   \n",
       "9   822         Powell at Post (Union Square)   \n",
       "\n",
       "                       end_station_name  \n",
       "0                Embarcadero at Sansome  \n",
       "1  Harry Bridges Plaza (Ferry Building)  \n",
       "2                University and Emerson  \n",
       "3                         Market at 4th  \n",
       "4                     Steuart at Market  \n",
       "5                       2nd at Townsend  \n",
       "6                        Market at 10th  \n",
       "7                Embarcadero at Vallejo  \n",
       "8                      Davis at Jackson  \n",
       "9         Powell at Post (Union Square)  "
      ]
     },
     "execution_count": 8,
     "metadata": {},
     "output_type": "execute_result"
    }
   ],
   "source": [
    "same_end_station_df"
   ]
  },
  {
   "cell_type": "markdown",
   "id": "4b4c0f95",
   "metadata": {},
   "source": [
    "### Checking if subscribers take more trips than customers. Turns out they do, about 86% trips are from subsribers."
   ]
  },
  {
   "cell_type": "code",
   "execution_count": 9,
   "id": "6830659d",
   "metadata": {},
   "outputs": [
    {
     "name": "stderr",
     "output_type": "stream",
     "text": [
      "Query complete after 0.00s: 100%|██████████| 3/3 [00:00<00:00, 1371.43query/s]                        \n",
      "Downloading: 100%|██████████| 2/2 [00:01<00:00,  1.45rows/s]\n"
     ]
    }
   ],
   "source": [
    "%%bigquery sub_df  \n",
    "SELECT count (distinct trip_ID), subscriber_type FROM `bigquery-public-data`.san_francisco.bikeshare_trips\n",
    "Group BY subscriber_type"
   ]
  },
  {
   "cell_type": "code",
   "execution_count": 10,
   "id": "f60fbdbf",
   "metadata": {},
   "outputs": [
    {
     "data": {
      "text/html": [
       "<div>\n",
       "<style scoped>\n",
       "    .dataframe tbody tr th:only-of-type {\n",
       "        vertical-align: middle;\n",
       "    }\n",
       "\n",
       "    .dataframe tbody tr th {\n",
       "        vertical-align: top;\n",
       "    }\n",
       "\n",
       "    .dataframe thead th {\n",
       "        text-align: right;\n",
       "    }\n",
       "</style>\n",
       "<table border=\"1\" class=\"dataframe\">\n",
       "  <thead>\n",
       "    <tr style=\"text-align: right;\">\n",
       "      <th></th>\n",
       "      <th>f0_</th>\n",
       "      <th>subscriber_type</th>\n",
       "    </tr>\n",
       "  </thead>\n",
       "  <tbody>\n",
       "    <tr>\n",
       "      <th>0</th>\n",
       "      <td>136809</td>\n",
       "      <td>Customer</td>\n",
       "    </tr>\n",
       "    <tr>\n",
       "      <th>1</th>\n",
       "      <td>846839</td>\n",
       "      <td>Subscriber</td>\n",
       "    </tr>\n",
       "  </tbody>\n",
       "</table>\n",
       "</div>"
      ],
      "text/plain": [
       "      f0_ subscriber_type\n",
       "0  136809        Customer\n",
       "1  846839      Subscriber"
      ]
     },
     "execution_count": 10,
     "metadata": {},
     "output_type": "execute_result"
    }
   ],
   "source": [
    "sub_df"
   ]
  },
  {
   "cell_type": "code",
   "execution_count": 13,
   "id": "20c4ed92",
   "metadata": {},
   "outputs": [
    {
     "data": {
      "text/plain": [
       "13.908328995738312"
      ]
     },
     "execution_count": 13,
     "metadata": {},
     "output_type": "execute_result"
    }
   ],
   "source": [
    "customer_perc=(136809/(136809+846839))*100\n",
    "customer_perc"
   ]
  },
  {
   "cell_type": "code",
   "execution_count": 14,
   "id": "7ca3795a",
   "metadata": {},
   "outputs": [
    {
     "data": {
      "text/plain": [
       "86.09167100426168"
      ]
     },
     "execution_count": 14,
     "metadata": {},
     "output_type": "execute_result"
    }
   ],
   "source": [
    "sub_perc=(846839/(136809+846839))*100\n",
    "sub_perc"
   ]
  },
  {
   "cell_type": "markdown",
   "id": "d6798d25",
   "metadata": {},
   "source": [
    "### Looking at trips where start and end stations are different by subscriber type."
   ]
  },
  {
   "cell_type": "code",
   "execution_count": 15,
   "id": "ea38b2d7",
   "metadata": {},
   "outputs": [
    {
     "name": "stderr",
     "output_type": "stream",
     "text": [
      "Query complete after 0.00s: 100%|██████████| 1/1 [00:00<00:00, 847.33query/s] \n",
      "Downloading: 100%|██████████| 10/10 [00:02<00:00,  4.76rows/s]\n"
     ]
    }
   ],
   "source": [
    "%%bigquery diff_end_station_df_sub\n",
    "\n",
    "select count(trip_id), start_station_name, end_station_name, subscriber_type\n",
    "from `bigquery-public-data.san_francisco.bikeshare_trips`\n",
    "where start_station_name != end_station_name\n",
    "group by start_station_name, end_station_name, subscriber_type\n",
    "order by count(trip_id) desc\n",
    "limit 10"
   ]
  },
  {
   "cell_type": "code",
   "execution_count": 62,
   "id": "af4d0846",
   "metadata": {},
   "outputs": [
    {
     "data": {
      "text/html": [
       "<div>\n",
       "<style scoped>\n",
       "    .dataframe tbody tr th:only-of-type {\n",
       "        vertical-align: middle;\n",
       "    }\n",
       "\n",
       "    .dataframe tbody tr th {\n",
       "        vertical-align: top;\n",
       "    }\n",
       "\n",
       "    .dataframe thead th {\n",
       "        text-align: right;\n",
       "    }\n",
       "</style>\n",
       "<table border=\"1\" class=\"dataframe\">\n",
       "  <thead>\n",
       "    <tr style=\"text-align: right;\">\n",
       "      <th></th>\n",
       "      <th>f0_</th>\n",
       "      <th>start_station_name</th>\n",
       "      <th>end_station_name</th>\n",
       "      <th>subscriber_type</th>\n",
       "    </tr>\n",
       "  </thead>\n",
       "  <tbody>\n",
       "    <tr>\n",
       "      <th>0</th>\n",
       "      <td>8305</td>\n",
       "      <td>San Francisco Caltrain 2 (330 Townsend)</td>\n",
       "      <td>Townsend at 7th</td>\n",
       "      <td>Subscriber</td>\n",
       "    </tr>\n",
       "    <tr>\n",
       "      <th>1</th>\n",
       "      <td>6931</td>\n",
       "      <td>2nd at Townsend</td>\n",
       "      <td>Harry Bridges Plaza (Ferry Building)</td>\n",
       "      <td>Subscriber</td>\n",
       "    </tr>\n",
       "    <tr>\n",
       "      <th>2</th>\n",
       "      <td>6641</td>\n",
       "      <td>Townsend at 7th</td>\n",
       "      <td>San Francisco Caltrain 2 (330 Townsend)</td>\n",
       "      <td>Subscriber</td>\n",
       "    </tr>\n",
       "    <tr>\n",
       "      <th>3</th>\n",
       "      <td>6332</td>\n",
       "      <td>Harry Bridges Plaza (Ferry Building)</td>\n",
       "      <td>2nd at Townsend</td>\n",
       "      <td>Subscriber</td>\n",
       "    </tr>\n",
       "    <tr>\n",
       "      <th>4</th>\n",
       "      <td>6200</td>\n",
       "      <td>Embarcadero at Sansome</td>\n",
       "      <td>Steuart at Market</td>\n",
       "      <td>Subscriber</td>\n",
       "    </tr>\n",
       "    <tr>\n",
       "      <th>5</th>\n",
       "      <td>6158</td>\n",
       "      <td>Embarcadero at Folsom</td>\n",
       "      <td>San Francisco Caltrain (Townsend at 4th)</td>\n",
       "      <td>Subscriber</td>\n",
       "    </tr>\n",
       "    <tr>\n",
       "      <th>6</th>\n",
       "      <td>5758</td>\n",
       "      <td>Steuart at Market</td>\n",
       "      <td>2nd at Townsend</td>\n",
       "      <td>Subscriber</td>\n",
       "    </tr>\n",
       "    <tr>\n",
       "      <th>7</th>\n",
       "      <td>5709</td>\n",
       "      <td>San Francisco Caltrain (Townsend at 4th)</td>\n",
       "      <td>Harry Bridges Plaza (Ferry Building)</td>\n",
       "      <td>Subscriber</td>\n",
       "    </tr>\n",
       "    <tr>\n",
       "      <th>8</th>\n",
       "      <td>5699</td>\n",
       "      <td>Temporary Transbay Terminal (Howard at Beale)</td>\n",
       "      <td>San Francisco Caltrain (Townsend at 4th)</td>\n",
       "      <td>Subscriber</td>\n",
       "    </tr>\n",
       "    <tr>\n",
       "      <th>9</th>\n",
       "      <td>5695</td>\n",
       "      <td>Steuart at Market</td>\n",
       "      <td>San Francisco Caltrain (Townsend at 4th)</td>\n",
       "      <td>Subscriber</td>\n",
       "    </tr>\n",
       "  </tbody>\n",
       "</table>\n",
       "</div>"
      ],
      "text/plain": [
       "    f0_                             start_station_name  \\\n",
       "0  8305        San Francisco Caltrain 2 (330 Townsend)   \n",
       "1  6931                                2nd at Townsend   \n",
       "2  6641                                Townsend at 7th   \n",
       "3  6332           Harry Bridges Plaza (Ferry Building)   \n",
       "4  6200                         Embarcadero at Sansome   \n",
       "5  6158                          Embarcadero at Folsom   \n",
       "6  5758                              Steuart at Market   \n",
       "7  5709       San Francisco Caltrain (Townsend at 4th)   \n",
       "8  5699  Temporary Transbay Terminal (Howard at Beale)   \n",
       "9  5695                              Steuart at Market   \n",
       "\n",
       "                           end_station_name subscriber_type  \n",
       "0                           Townsend at 7th      Subscriber  \n",
       "1      Harry Bridges Plaza (Ferry Building)      Subscriber  \n",
       "2   San Francisco Caltrain 2 (330 Townsend)      Subscriber  \n",
       "3                           2nd at Townsend      Subscriber  \n",
       "4                         Steuart at Market      Subscriber  \n",
       "5  San Francisco Caltrain (Townsend at 4th)      Subscriber  \n",
       "6                           2nd at Townsend      Subscriber  \n",
       "7      Harry Bridges Plaza (Ferry Building)      Subscriber  \n",
       "8  San Francisco Caltrain (Townsend at 4th)      Subscriber  \n",
       "9  San Francisco Caltrain (Townsend at 4th)      Subscriber  "
      ]
     },
     "execution_count": 62,
     "metadata": {},
     "output_type": "execute_result"
    }
   ],
   "source": [
    "diff_end_station_df_sub"
   ]
  },
  {
   "cell_type": "markdown",
   "id": "6cd5bdb2",
   "metadata": {},
   "source": [
    "### Looking at trips where start and end stations are the same by subscriber type."
   ]
  },
  {
   "cell_type": "code",
   "execution_count": 16,
   "id": "c8f84e96",
   "metadata": {},
   "outputs": [
    {
     "name": "stderr",
     "output_type": "stream",
     "text": [
      "Query complete after 0.00s: 100%|██████████| 1/1 [00:00<00:00, 866.95query/s] \n",
      "Downloading: 100%|██████████| 10/10 [00:01<00:00,  6.58rows/s]\n"
     ]
    }
   ],
   "source": [
    "%%bigquery same_end_station_df_sub\n",
    "\n",
    "select count(trip_id), start_station_name, end_station_name, subscriber_type\n",
    "from `bigquery-public-data.san_francisco.bikeshare_trips`\n",
    "where start_station_name = end_station_name\n",
    "group by start_station_name, end_station_name, subscriber_type\n",
    "order by count(trip_id) desc\n",
    "limit 10"
   ]
  },
  {
   "cell_type": "code",
   "execution_count": 17,
   "id": "c01b6168",
   "metadata": {},
   "outputs": [
    {
     "data": {
      "text/html": [
       "<div>\n",
       "<style scoped>\n",
       "    .dataframe tbody tr th:only-of-type {\n",
       "        vertical-align: middle;\n",
       "    }\n",
       "\n",
       "    .dataframe tbody tr th {\n",
       "        vertical-align: top;\n",
       "    }\n",
       "\n",
       "    .dataframe thead th {\n",
       "        text-align: right;\n",
       "    }\n",
       "</style>\n",
       "<table border=\"1\" class=\"dataframe\">\n",
       "  <thead>\n",
       "    <tr style=\"text-align: right;\">\n",
       "      <th></th>\n",
       "      <th>f0_</th>\n",
       "      <th>start_station_name</th>\n",
       "      <th>end_station_name</th>\n",
       "      <th>subscriber_type</th>\n",
       "    </tr>\n",
       "  </thead>\n",
       "  <tbody>\n",
       "    <tr>\n",
       "      <th>0</th>\n",
       "      <td>2545</td>\n",
       "      <td>Embarcadero at Sansome</td>\n",
       "      <td>Embarcadero at Sansome</td>\n",
       "      <td>Customer</td>\n",
       "    </tr>\n",
       "    <tr>\n",
       "      <th>1</th>\n",
       "      <td>2004</td>\n",
       "      <td>Harry Bridges Plaza (Ferry Building)</td>\n",
       "      <td>Harry Bridges Plaza (Ferry Building)</td>\n",
       "      <td>Customer</td>\n",
       "    </tr>\n",
       "    <tr>\n",
       "      <th>2</th>\n",
       "      <td>1113</td>\n",
       "      <td>University and Emerson</td>\n",
       "      <td>University and Emerson</td>\n",
       "      <td>Customer</td>\n",
       "    </tr>\n",
       "    <tr>\n",
       "      <th>3</th>\n",
       "      <td>811</td>\n",
       "      <td>Market at 4th</td>\n",
       "      <td>Market at 4th</td>\n",
       "      <td>Customer</td>\n",
       "    </tr>\n",
       "    <tr>\n",
       "      <th>4</th>\n",
       "      <td>769</td>\n",
       "      <td>Powell at Post (Union Square)</td>\n",
       "      <td>Powell at Post (Union Square)</td>\n",
       "      <td>Customer</td>\n",
       "    </tr>\n",
       "    <tr>\n",
       "      <th>5</th>\n",
       "      <td>703</td>\n",
       "      <td>Embarcadero at Vallejo</td>\n",
       "      <td>Embarcadero at Vallejo</td>\n",
       "      <td>Customer</td>\n",
       "    </tr>\n",
       "    <tr>\n",
       "      <th>6</th>\n",
       "      <td>645</td>\n",
       "      <td>Powell Street BART</td>\n",
       "      <td>Powell Street BART</td>\n",
       "      <td>Customer</td>\n",
       "    </tr>\n",
       "    <tr>\n",
       "      <th>7</th>\n",
       "      <td>630</td>\n",
       "      <td>Steuart at Market</td>\n",
       "      <td>Steuart at Market</td>\n",
       "      <td>Customer</td>\n",
       "    </tr>\n",
       "    <tr>\n",
       "      <th>8</th>\n",
       "      <td>531</td>\n",
       "      <td>Market at 10th</td>\n",
       "      <td>Market at 10th</td>\n",
       "      <td>Customer</td>\n",
       "    </tr>\n",
       "    <tr>\n",
       "      <th>9</th>\n",
       "      <td>529</td>\n",
       "      <td>Davis at Jackson</td>\n",
       "      <td>Davis at Jackson</td>\n",
       "      <td>Subscriber</td>\n",
       "    </tr>\n",
       "  </tbody>\n",
       "</table>\n",
       "</div>"
      ],
      "text/plain": [
       "    f0_                    start_station_name  \\\n",
       "0  2545                Embarcadero at Sansome   \n",
       "1  2004  Harry Bridges Plaza (Ferry Building)   \n",
       "2  1113                University and Emerson   \n",
       "3   811                         Market at 4th   \n",
       "4   769         Powell at Post (Union Square)   \n",
       "5   703                Embarcadero at Vallejo   \n",
       "6   645                    Powell Street BART   \n",
       "7   630                     Steuart at Market   \n",
       "8   531                        Market at 10th   \n",
       "9   529                      Davis at Jackson   \n",
       "\n",
       "                       end_station_name subscriber_type  \n",
       "0                Embarcadero at Sansome        Customer  \n",
       "1  Harry Bridges Plaza (Ferry Building)        Customer  \n",
       "2                University and Emerson        Customer  \n",
       "3                         Market at 4th        Customer  \n",
       "4         Powell at Post (Union Square)        Customer  \n",
       "5                Embarcadero at Vallejo        Customer  \n",
       "6                    Powell Street BART        Customer  \n",
       "7                     Steuart at Market        Customer  \n",
       "8                        Market at 10th        Customer  \n",
       "9                      Davis at Jackson      Subscriber  "
      ]
     },
     "execution_count": 17,
     "metadata": {},
     "output_type": "execute_result"
    }
   ],
   "source": [
    "same_end_station_df_sub"
   ]
  },
  {
   "cell_type": "markdown",
   "id": "bc5d6f8e",
   "metadata": {},
   "source": [
    "### Does trip duration differ from customer to subscriber?"
   ]
  },
  {
   "cell_type": "code",
   "execution_count": 18,
   "id": "c049498e",
   "metadata": {},
   "outputs": [
    {
     "name": "stderr",
     "output_type": "stream",
     "text": [
      "Query complete after 0.00s: 100%|██████████| 2/2 [00:00<00:00, 1108.72query/s]                        \n",
      "Downloading: 100%|██████████| 2/2 [00:01<00:00,  1.06rows/s]\n"
     ]
    }
   ],
   "source": [
    "%%bigquery sub_trip_time             \n",
    "select  avg(duration_sec/60) , subscriber_type\n",
    "from `bigquery-public-data`.san_francisco.bikeshare_trips\n",
    "group by subscriber_type "
   ]
  },
  {
   "cell_type": "code",
   "execution_count": 19,
   "id": "420768ff",
   "metadata": {},
   "outputs": [
    {
     "data": {
      "text/html": [
       "<div>\n",
       "<style scoped>\n",
       "    .dataframe tbody tr th:only-of-type {\n",
       "        vertical-align: middle;\n",
       "    }\n",
       "\n",
       "    .dataframe tbody tr th {\n",
       "        vertical-align: top;\n",
       "    }\n",
       "\n",
       "    .dataframe thead th {\n",
       "        text-align: right;\n",
       "    }\n",
       "</style>\n",
       "<table border=\"1\" class=\"dataframe\">\n",
       "  <thead>\n",
       "    <tr style=\"text-align: right;\">\n",
       "      <th></th>\n",
       "      <th>f0_</th>\n",
       "      <th>subscriber_type</th>\n",
       "    </tr>\n",
       "  </thead>\n",
       "  <tbody>\n",
       "    <tr>\n",
       "      <th>0</th>\n",
       "      <td>61.979753</td>\n",
       "      <td>Customer</td>\n",
       "    </tr>\n",
       "    <tr>\n",
       "      <th>1</th>\n",
       "      <td>9.712737</td>\n",
       "      <td>Subscriber</td>\n",
       "    </tr>\n",
       "  </tbody>\n",
       "</table>\n",
       "</div>"
      ],
      "text/plain": [
       "         f0_ subscriber_type\n",
       "0  61.979753        Customer\n",
       "1   9.712737      Subscriber"
      ]
     },
     "execution_count": 19,
     "metadata": {},
     "output_type": "execute_result"
    }
   ],
   "source": [
    "sub_trip_time"
   ]
  },
  {
   "cell_type": "markdown",
   "id": "ab761028",
   "metadata": {},
   "source": [
    "### Seems like there are more trips occuring among subscribers than customers. Additionally, Customers take longer trips where as subscribers take shorter ones. "
   ]
  },
  {
   "cell_type": "markdown",
   "id": "534c76a8",
   "metadata": {},
   "source": [
    "### Looking at how trips taken overall differ across the year. Appears as peak usage is between June-October, which then begins to decrease. This maybe due to weather or vacation time/holiday season."
   ]
  },
  {
   "cell_type": "code",
   "execution_count": 54,
   "id": "d6488259",
   "metadata": {},
   "outputs": [
    {
     "name": "stderr",
     "output_type": "stream",
     "text": [
      "Query complete after 0.00s: 100%|██████████| 3/3 [00:00<00:00, 1491.57query/s]                        \n",
      "Downloading: 100%|██████████| 12/12 [00:01<00:00,  9.32rows/s]\n"
     ]
    }
   ],
   "source": [
    "%%bigquery trips_per_month_df   \n",
    "select count(trip_id),\n",
    "EXTRACT(month from start_date) as trip_month,\n",
    "count(*) as trips\n",
    "FROM `bigquery-public-data`.san_francisco.bikeshare_trips\n",
    "group by trip_month\n",
    "order by trip_month"
   ]
  },
  {
   "cell_type": "code",
   "execution_count": 55,
   "id": "231d4a5a",
   "metadata": {},
   "outputs": [
    {
     "data": {
      "text/plain": [
       "<AxesSubplot:xlabel='trip_month'>"
      ]
     },
     "execution_count": 55,
     "metadata": {},
     "output_type": "execute_result"
    },
    {
     "data": {
      "image/png": "[encoded data removed]",
      "text/plain": [
       "<Figure size 432x288 with 1 Axes>"
      ]
     },
     "metadata": {
      "needs_background": "light"
     },
     "output_type": "display_data"
    }
   ],
   "source": [
    "trips_per_month_df.plot(x=\"trip_month\", y=\"trips\")"
   ]
  },
  {
   "cell_type": "markdown",
   "id": "0796f37b",
   "metadata": {},
   "source": [
    "### Looking at monthly trips by subscriber vs customer."
   ]
  },
  {
   "cell_type": "code",
   "execution_count": 21,
   "id": "7f249ed0",
   "metadata": {},
   "outputs": [
    {
     "name": "stderr",
     "output_type": "stream",
     "text": [
      "Query complete after 0.00s: 100%|██████████| 3/3 [00:00<00:00, 1257.54query/s]                        \n",
      "Downloading: 100%|██████████| 24/24 [00:01<00:00, 14.96rows/s]\n"
     ]
    }
   ],
   "source": [
    "%%bigquery trips_per_month_sub_df   \n",
    "select count(trip_id), subscriber_type,\n",
    "EXTRACT(month from start_date) as trip_month,\n",
    "count(*) as trips\n",
    "FROM `bigquery-public-data`.san_francisco.bikeshare_trips\n",
    "group by trip_month, subscriber_type\n",
    "order by trip_month;"
   ]
  },
  {
   "cell_type": "code",
   "execution_count": 22,
   "id": "ec0722ad",
   "metadata": {},
   "outputs": [
    {
     "data": {
      "text/plain": [
       "<seaborn.axisgrid.FacetGrid at 0x7fe9bc4d1d10>"
      ]
     },
     "execution_count": 22,
     "metadata": {},
     "output_type": "execute_result"
    },
    {
     "data": {
      "image/png": "[encoded data removed]",
      "text/plain": [
       "<Figure size 449.125x360 with 1 Axes>"
      ]
     },
     "metadata": {
      "needs_background": "light"
     },
     "output_type": "display_data"
    }
   ],
   "source": [
    "sns.catplot(x=\"trip_month\", y=\"trips\", hue=\"subscriber_type\", kind=\"swarm\", data=trips_per_month_sub_df)"
   ]
  },
  {
   "cell_type": "markdown",
   "id": "632a3e86",
   "metadata": {},
   "source": [
    "Overall, trips are more frequent during the summertime (June-October). Trips do decrease by end of the year. When looking at it by subscriber type, the same pattern does seem to follow. However, customers generally take less trips than subscribers do."
   ]
  },
  {
   "cell_type": "markdown",
   "id": "bc44863c",
   "metadata": {},
   "source": [
    "### Looking at trips by the hour in one day."
   ]
  },
  {
   "cell_type": "code",
   "execution_count": 218,
   "id": "c5f58a23",
   "metadata": {},
   "outputs": [
    {
     "name": "stderr",
     "output_type": "stream",
     "text": [
      "Query complete after 0.00s: 100%|██████████| 3/3 [00:00<00:00, 1464.32query/s]                        \n",
      "Downloading: 100%|██████████| 24/24 [00:02<00:00, 11.43rows/s]\n"
     ]
    }
   ],
   "source": [
    "%%bigquery trips_hour  \n",
    "select avg(trip_id),\n",
    "EXTRACT(hour from start_date) as trip_hour,\n",
    "count(*) as trips\n",
    "FROM `bigquery-public-data`.san_francisco.bikeshare_trips\n",
    "group by trip_hour\n",
    "order by trip_hour"
   ]
  },
  {
   "cell_type": "code",
   "execution_count": 219,
   "id": "28cc0a09",
   "metadata": {},
   "outputs": [
    {
     "data": {
      "text/plain": [
       "<AxesSubplot:title={'center':'Average Trips per Hour in a Day'}, xlabel='trip_hour'>"
      ]
     },
     "execution_count": 219,
     "metadata": {},
     "output_type": "execute_result"
    },
    {
     "data": {
      "image/png": "[encoded data removed]",
      "text/plain": [
       "<Figure size 432x288 with 1 Axes>"
      ]
     },
     "metadata": {
      "needs_background": "light"
     },
     "output_type": "display_data"
    }
   ],
   "source": [
    "trips_hour.plot(x=\"trip_hour\", y=\"trips\", title=\"Average Trips per Hour in a Day\")\n"
   ]
  },
  {
   "cell_type": "markdown",
   "id": "ba0189d2",
   "metadata": {},
   "source": [
    "### Looking at overall trips trhoughout the day, the peaks happen around 7-9am and after 3pm, which indicate rush hour. There are fewer trips that occur in the early morning from 1am-5am and after 8pm. "
   ]
  },
  {
   "cell_type": "code",
   "execution_count": 222,
   "id": "e7ff6a8d",
   "metadata": {},
   "outputs": [
    {
     "name": "stderr",
     "output_type": "stream",
     "text": [
      "Query complete after 0.00s: 100%|██████████| 3/3 [00:00<00:00, 1415.08query/s]                        \n",
      "Downloading: 100%|██████████| 48/48 [00:01<00:00, 35.22rows/s]\n"
     ]
    }
   ],
   "source": [
    "%%bigquery trips_hour_sub\n",
    "select avg(trip_id), subscriber_type,\n",
    "EXTRACT(hour from start_date) as trip_hour,\n",
    "count(*) as trips\n",
    "FROM `bigquery-public-data`.san_francisco.bikeshare_trips\n",
    "group by trip_hour, subscriber_type\n",
    "order by trip_hour"
   ]
  },
  {
   "cell_type": "code",
   "execution_count": 230,
   "id": "81250b14",
   "metadata": {},
   "outputs": [
    {
     "data": {
      "text/plain": [
       "<AxesSubplot:xlabel='trip_hour', ylabel='trips'>"
      ]
     },
     "execution_count": 230,
     "metadata": {},
     "output_type": "execute_result"
    },
    {
     "data": {
      "image/png": "[encoded data removed]",
      "text/plain": [
       "<Figure size 432x288 with 1 Axes>"
      ]
     },
     "metadata": {
      "needs_background": "light"
     },
     "output_type": "display_data"
    }
   ],
   "source": [
    "#trips_hour_sub\n",
    "sns.lineplot(x=\"trip_hour\", y=\"trips\", hue=\"subscriber_type\",data=trips_hour_sub)\n"
   ]
  },
  {
   "cell_type": "markdown",
   "id": "2e4f64b2",
   "metadata": {},
   "source": [
    "### The peaks of most trips that were seen overall are also prominent within subscribers. They must be the majority of the commmuter users. However, when looking at the customer usage, there seems to be almost a normal curve with its max users around 12-1pm."
   ]
  },
  {
   "cell_type": "markdown",
   "id": "48279647",
   "metadata": {},
   "source": [
    "## Now that I explored overall trips, I will dig in to the trips that happen during rush hour, as that may indicate a commuter trip. I will define a rush hour trip as any trip from M-F between hours of 7-9am and 4-7pm."
   ]
  },
  {
   "cell_type": "code",
   "execution_count": 183,
   "id": "55030bf3",
   "metadata": {},
   "outputs": [
    {
     "name": "stderr",
     "output_type": "stream",
     "text": [
      "Query complete after 0.00s: 100%|██████████| 2/2 [00:00<00:00, 1141.46query/s]                        \n",
      "Downloading: 100%|██████████| 2/2 [00:01<00:00,  1.04rows/s]\n"
     ]
    }
   ],
   "source": [
    "%%bigquery rush_hour_df\n",
    "select\n",
    "(EXTRACT (Hour from start_date) >=7 AND extract(hour from end_date) <=9) OR Extract(hour from start_date) >= 16 or extract(hour from end_date)<=19 AND EXTRACT(DAYOFWEEK from start_date) IN (2, 3, 4, 5, 6) AND EXTRACT(DAYOFWEEK from end_date) IN (2, 3, 4, 5, 6) as rush_hour, \n",
    "count(*) as trips\n",
    "FROM `bigquery-public-data`.san_francisco.bikeshare_trips\n",
    "group by rush_hour;"
   ]
  },
  {
   "cell_type": "code",
   "execution_count": 184,
   "id": "f05551d1",
   "metadata": {},
   "outputs": [
    {
     "data": {
      "text/html": [
       "<div>\n",
       "<style scoped>\n",
       "    .dataframe tbody tr th:only-of-type {\n",
       "        vertical-align: middle;\n",
       "    }\n",
       "\n",
       "    .dataframe tbody tr th {\n",
       "        vertical-align: top;\n",
       "    }\n",
       "\n",
       "    .dataframe thead th {\n",
       "        text-align: right;\n",
       "    }\n",
       "</style>\n",
       "<table border=\"1\" class=\"dataframe\">\n",
       "  <thead>\n",
       "    <tr style=\"text-align: right;\">\n",
       "      <th></th>\n",
       "      <th>rush_hour</th>\n",
       "      <th>trips</th>\n",
       "    </tr>\n",
       "  </thead>\n",
       "  <tbody>\n",
       "    <tr>\n",
       "      <th>0</th>\n",
       "      <td>True</td>\n",
       "      <td>917974</td>\n",
       "    </tr>\n",
       "    <tr>\n",
       "      <th>1</th>\n",
       "      <td>False</td>\n",
       "      <td>65674</td>\n",
       "    </tr>\n",
       "  </tbody>\n",
       "</table>\n",
       "</div>"
      ],
      "text/plain": [
       "   rush_hour   trips\n",
       "0       True  917974\n",
       "1      False   65674"
      ]
     },
     "execution_count": 184,
     "metadata": {},
     "output_type": "execute_result"
    }
   ],
   "source": [
    "rush_hour_df"
   ]
  },
  {
   "cell_type": "markdown",
   "id": "1b13f676",
   "metadata": {},
   "source": [
    "### Based on above, there seems to be more trips do happen during rush hour. Curious to see how this trend will be for trips during rush hour and when starting and ending stations are different, which can define a commuter trip."
   ]
  },
  {
   "cell_type": "code",
   "execution_count": 187,
   "id": "541ba7de",
   "metadata": {},
   "outputs": [
    {
     "name": "stderr",
     "output_type": "stream",
     "text": [
      "Query complete after 0.00s: 100%|██████████| 1/1 [00:00<00:00, 777.30query/s] \n",
      "Downloading: 100%|██████████| 2/2 [00:02<00:00,  1.19s/rows]\n"
     ]
    }
   ],
   "source": [
    "%%bigquery commuter_trip_df\n",
    "select\n",
    "(EXTRACT (Hour from start_date) >=7 AND extract(hour from end_date) <=9) OR Extract(hour from start_date) >= 16 or extract(hour from end_date)<=19 AND EXTRACT(DAYOFWEEK from start_date) IN (2, 3, 4, 5, 6) AND EXTRACT(DAYOFWEEK from end_date) IN (2, 3, 4, 5, 6) as commuter_trip, \n",
    "count(*) as num_trips\n",
    "FROM `bigquery-public-data`.san_francisco.bikeshare_trips\n",
    "Where start_station_name != end_station_name\n",
    "group by commuter_trip;"
   ]
  },
  {
   "cell_type": "code",
   "execution_count": 188,
   "id": "159d4468",
   "metadata": {},
   "outputs": [
    {
     "data": {
      "text/html": [
       "<div>\n",
       "<style scoped>\n",
       "    .dataframe tbody tr th:only-of-type {\n",
       "        vertical-align: middle;\n",
       "    }\n",
       "\n",
       "    .dataframe tbody tr th {\n",
       "        vertical-align: top;\n",
       "    }\n",
       "\n",
       "    .dataframe thead th {\n",
       "        text-align: right;\n",
       "    }\n",
       "</style>\n",
       "<table border=\"1\" class=\"dataframe\">\n",
       "  <thead>\n",
       "    <tr style=\"text-align: right;\">\n",
       "      <th></th>\n",
       "      <th>commuter_trip</th>\n",
       "      <th>num_trips</th>\n",
       "    </tr>\n",
       "  </thead>\n",
       "  <tbody>\n",
       "    <tr>\n",
       "      <th>0</th>\n",
       "      <td>False</td>\n",
       "      <td>57298</td>\n",
       "    </tr>\n",
       "    <tr>\n",
       "      <th>1</th>\n",
       "      <td>True</td>\n",
       "      <td>894303</td>\n",
       "    </tr>\n",
       "  </tbody>\n",
       "</table>\n",
       "</div>"
      ],
      "text/plain": [
       "   commuter_trip  num_trips\n",
       "0          False      57298\n",
       "1           True     894303"
      ]
     },
     "execution_count": 188,
     "metadata": {},
     "output_type": "execute_result"
    }
   ],
   "source": [
    "commuter_trip_df"
   ]
  },
  {
   "cell_type": "code",
   "execution_count": 23,
   "id": "f9bc9825",
   "metadata": {},
   "outputs": [
    {
     "data": {
      "text/plain": [
       "93.97877892099736"
      ]
     },
     "execution_count": 23,
     "metadata": {},
     "output_type": "execute_result"
    }
   ],
   "source": [
    "commuter_trip=(894303/(57298+894303))*100\n",
    "commuter_trip"
   ]
  },
  {
   "cell_type": "markdown",
   "id": "39f5db22",
   "metadata": {},
   "source": [
    "### Based on above, there is more commuter trips (94%) than non-commuter trips."
   ]
  },
  {
   "cell_type": "markdown",
   "id": "4122d02a",
   "metadata": {},
   "source": [
    "### The monthly usage for a commuter trip follows the same pattern as a general trip. Peak around summer and decrease after October."
   ]
  },
  {
   "cell_type": "code",
   "execution_count": 24,
   "id": "236df1f7",
   "metadata": {},
   "outputs": [
    {
     "name": "stderr",
     "output_type": "stream",
     "text": [
      "Query complete after 0.00s: 100%|██████████| 1/1 [00:00<00:00, 887.87query/s] \n",
      "Downloading: 100%|██████████| 12/12 [00:01<00:00,  8.15rows/s]\n"
     ]
    }
   ],
   "source": [
    "%%bigquery commuter_trips_df\n",
    "select \n",
    "Extract (month from start_date) as trip_month,\n",
    "Count(*) as trips\n",
    "FROM `bigquery-public-data`.san_francisco.bikeshare_trips\n",
    "Where (EXTRACT (Hour from start_date) >=7 AND extract(hour from end_date) <=9) OR (Extract(hour from start_date) >= 16 and extract(hour from end_date)<=19) AND (EXTRACT(DAYOFWEEK FROM start_date) IN (2, 3, 4, 5, 6)) and (EXTRACT(DAYOFWEEK from end_date) IN (2, 3, 4, 5, 6)) and (EXTRACT(DAYOFWEEK from end_date) IN (2, 3, 4, 5, 6)) and (start_station_name!=end_station_name) \n",
    "group by trip_month\n",
    "order by trips desc;"
   ]
  },
  {
   "cell_type": "code",
   "execution_count": 25,
   "id": "90df26fe",
   "metadata": {},
   "outputs": [
    {
     "data": {
      "text/plain": [
       "<AxesSubplot:xlabel='trip_month', ylabel='trips'>"
      ]
     },
     "execution_count": 25,
     "metadata": {},
     "output_type": "execute_result"
    },
    {
     "data": {
      "image/png": "[encoded data removed]",
      "text/plain": [
       "<Figure size 432x288 with 1 Axes>"
      ]
     },
     "metadata": {
      "needs_background": "light"
     },
     "output_type": "display_data"
    }
   ],
   "source": [
    "#commuter_trips_df\n",
    "sns.lineplot(x=\"trip_month\", y=\"trips\",data=commuter_trips_df)\n"
   ]
  },
  {
   "cell_type": "markdown",
   "id": "1f948ff5",
   "metadata": {},
   "source": [
    "### How long is a commuter trip versus a non-commuter trip?"
   ]
  },
  {
   "cell_type": "code",
   "execution_count": 26,
   "id": "286c9cf4",
   "metadata": {},
   "outputs": [
    {
     "name": "stderr",
     "output_type": "stream",
     "text": [
      "Query complete after 0.00s: 100%|██████████| 1/1 [00:00<00:00, 816.17query/s] \n",
      "Downloading: 100%|██████████| 2/2 [00:02<00:00,  1.14s/rows]\n"
     ]
    }
   ],
   "source": [
    "%%bigquery commuter_trips_df\n",
    "select avg(duration_sec/60),\n",
    "     (EXTRACT (Hour from start_date) >=7 AND extract(hour from end_date) <=9) OR Extract(hour from start_date) >= 16 or extract(hour from end_date)<=19 AND EXTRACT(DAYOFWEEK from start_date) IN (2, 3, 4, 5, 6) And EXTRACT(DAYOFWEEK from end_date) IN (2, 3, 4, 5, 6)as commuter_trip, \n",
    "        count(*) as num_trips\n",
    "FROM `bigquery-public-data`.san_francisco.bikeshare_trips\n",
    "Where start_station_name != end_station_name\n",
    "group by commuter_trip;"
   ]
  },
  {
   "cell_type": "code",
   "execution_count": 27,
   "id": "7aca91da",
   "metadata": {},
   "outputs": [
    {
     "data": {
      "text/html": [
       "<div>\n",
       "<style scoped>\n",
       "    .dataframe tbody tr th:only-of-type {\n",
       "        vertical-align: middle;\n",
       "    }\n",
       "\n",
       "    .dataframe tbody tr th {\n",
       "        vertical-align: top;\n",
       "    }\n",
       "\n",
       "    .dataframe thead th {\n",
       "        text-align: right;\n",
       "    }\n",
       "</style>\n",
       "<table border=\"1\" class=\"dataframe\">\n",
       "  <thead>\n",
       "    <tr style=\"text-align: right;\">\n",
       "      <th></th>\n",
       "      <th>f0_</th>\n",
       "      <th>commuter_trip</th>\n",
       "      <th>num_trips</th>\n",
       "    </tr>\n",
       "  </thead>\n",
       "  <tbody>\n",
       "    <tr>\n",
       "      <th>0</th>\n",
       "      <td>37.315086</td>\n",
       "      <td>False</td>\n",
       "      <td>57298</td>\n",
       "    </tr>\n",
       "    <tr>\n",
       "      <th>1</th>\n",
       "      <td>12.739512</td>\n",
       "      <td>True</td>\n",
       "      <td>894303</td>\n",
       "    </tr>\n",
       "  </tbody>\n",
       "</table>\n",
       "</div>"
      ],
      "text/plain": [
       "         f0_  commuter_trip  num_trips\n",
       "0  37.315086          False      57298\n",
       "1  12.739512           True     894303"
      ]
     },
     "execution_count": 27,
     "metadata": {},
     "output_type": "execute_result"
    }
   ],
   "source": [
    "commuter_trips_df"
   ]
  },
  {
   "cell_type": "markdown",
   "id": "89260276",
   "metadata": {},
   "source": [
    "### Commuter trips overall are about 13 minutes long versus 37 minutes for non-commuter."
   ]
  },
  {
   "cell_type": "code",
   "execution_count": 28,
   "id": "89b64729",
   "metadata": {},
   "outputs": [
    {
     "name": "stderr",
     "output_type": "stream",
     "text": [
      "Query complete after 0.00s: 100%|██████████| 1/1 [00:00<00:00, 877.29query/s] \n",
      "Downloading: 100%|██████████| 3666/3666 [00:01<00:00, 3399.28rows/s]\n"
     ]
    }
   ],
   "source": [
    "%%bigquery commuter_trips_df\n",
    "select avg(duration_sec/60),start_station_name, end_station_name, subscriber_type,\n",
    "Count(*) as trips\n",
    "FROM `bigquery-public-data`.san_francisco.bikeshare_trips\n",
    "Where (EXTRACT (Hour from start_date) >=7 AND extract(hour from end_date) <=9) OR (Extract(hour from start_date) >= 16 and extract(hour from end_date)<=19) AND (EXTRACT(DAYOFWEEK FROM start_date) IN (2, 3, 4, 5, 6)) and (EXTRACT(DAYOFWEEK from end_date) IN (2, 3, 4, 5, 6)) and (EXTRACT(DAYOFWEEK from end_date) IN (2, 3, 4, 5, 6)) and (start_station_name!=end_station_name) \n",
    "group by start_station_name, end_station_name, subscriber_type\n",
    "order by trips desc;"
   ]
  },
  {
   "cell_type": "code",
   "execution_count": 29,
   "id": "735ba5d6",
   "metadata": {},
   "outputs": [
    {
     "data": {
      "text/html": [
       "<div>\n",
       "<style scoped>\n",
       "    .dataframe tbody tr th:only-of-type {\n",
       "        vertical-align: middle;\n",
       "    }\n",
       "\n",
       "    .dataframe tbody tr th {\n",
       "        vertical-align: top;\n",
       "    }\n",
       "\n",
       "    .dataframe thead th {\n",
       "        text-align: right;\n",
       "    }\n",
       "</style>\n",
       "<table border=\"1\" class=\"dataframe\">\n",
       "  <thead>\n",
       "    <tr style=\"text-align: right;\">\n",
       "      <th></th>\n",
       "      <th>f0_</th>\n",
       "      <th>start_station_name</th>\n",
       "      <th>end_station_name</th>\n",
       "      <th>subscriber_type</th>\n",
       "      <th>trips</th>\n",
       "    </tr>\n",
       "  </thead>\n",
       "  <tbody>\n",
       "    <tr>\n",
       "      <th>0</th>\n",
       "      <td>4.461407</td>\n",
       "      <td>San Francisco Caltrain 2 (330 Townsend)</td>\n",
       "      <td>Townsend at 7th</td>\n",
       "      <td>Subscriber</td>\n",
       "      <td>5472</td>\n",
       "    </tr>\n",
       "    <tr>\n",
       "      <th>1</th>\n",
       "      <td>8.437533</td>\n",
       "      <td>2nd at Townsend</td>\n",
       "      <td>Harry Bridges Plaza (Ferry Building)</td>\n",
       "      <td>Subscriber</td>\n",
       "      <td>5147</td>\n",
       "    </tr>\n",
       "    <tr>\n",
       "      <th>2</th>\n",
       "      <td>9.556311</td>\n",
       "      <td>Harry Bridges Plaza (Ferry Building)</td>\n",
       "      <td>2nd at Townsend</td>\n",
       "      <td>Subscriber</td>\n",
       "      <td>5028</td>\n",
       "    </tr>\n",
       "    <tr>\n",
       "      <th>3</th>\n",
       "      <td>6.499308</td>\n",
       "      <td>Embarcadero at Sansome</td>\n",
       "      <td>Steuart at Market</td>\n",
       "      <td>Subscriber</td>\n",
       "      <td>4913</td>\n",
       "    </tr>\n",
       "    <tr>\n",
       "      <th>4</th>\n",
       "      <td>10.718405</td>\n",
       "      <td>Embarcadero at Folsom</td>\n",
       "      <td>San Francisco Caltrain (Townsend at 4th)</td>\n",
       "      <td>Subscriber</td>\n",
       "      <td>4775</td>\n",
       "    </tr>\n",
       "  </tbody>\n",
       "</table>\n",
       "</div>"
      ],
      "text/plain": [
       "         f0_                       start_station_name  \\\n",
       "0   4.461407  San Francisco Caltrain 2 (330 Townsend)   \n",
       "1   8.437533                          2nd at Townsend   \n",
       "2   9.556311     Harry Bridges Plaza (Ferry Building)   \n",
       "3   6.499308                   Embarcadero at Sansome   \n",
       "4  10.718405                    Embarcadero at Folsom   \n",
       "\n",
       "                           end_station_name subscriber_type  trips  \n",
       "0                           Townsend at 7th      Subscriber   5472  \n",
       "1      Harry Bridges Plaza (Ferry Building)      Subscriber   5147  \n",
       "2                           2nd at Townsend      Subscriber   5028  \n",
       "3                         Steuart at Market      Subscriber   4913  \n",
       "4  San Francisco Caltrain (Townsend at 4th)      Subscriber   4775  "
      ]
     },
     "execution_count": 29,
     "metadata": {},
     "output_type": "execute_result"
    }
   ],
   "source": [
    "commuter_trips_df.head()"
   ]
  },
  {
   "cell_type": "code",
   "execution_count": 31,
   "id": "9e77adcd",
   "metadata": {},
   "outputs": [
    {
     "name": "stderr",
     "output_type": "stream",
     "text": [
      "Query complete after 0.00s: 100%|██████████| 1/1 [00:00<00:00, 801.97query/s] \n",
      "Downloading: 100%|██████████| 7/7 [00:01<00:00,  5.70rows/s]\n"
     ]
    }
   ],
   "source": [
    "%%bigquery trips_by_day_s\n",
    "select \n",
    "Extract (dayofweek from start_date) as trip_day,\n",
    "Count(*) as trips\n",
    "FROM `bigquery-public-data`.san_francisco.bikeshare_trips\n",
    "Where subscriber_type='Subscriber'\n",
    "group by trip_day\n",
    "order by trips desc;"
   ]
  },
  {
   "cell_type": "code",
   "execution_count": 32,
   "id": "05333800",
   "metadata": {},
   "outputs": [
    {
     "data": {
      "text/plain": [
       "Text(0.5, 1.0, 'Subscriber Trips in the Week')"
      ]
     },
     "execution_count": 32,
     "metadata": {},
     "output_type": "execute_result"
    },
    {
     "data": {
      "image/png": "[encoded data removed]",
      "text/plain": [
       "<Figure size 432x288 with 1 Axes>"
      ]
     },
     "metadata": {
      "needs_background": "light"
     },
     "output_type": "display_data"
    }
   ],
   "source": [
    "#trips_by_day\n",
    "sns.barplot(x = 'trip_day', y = 'trips', data = trips_by_day_s)\n",
    "plt.title(\"Subscriber Trips in the Week\")\n",
    " "
   ]
  },
  {
   "cell_type": "code",
   "execution_count": 33,
   "id": "b4c79909",
   "metadata": {},
   "outputs": [
    {
     "name": "stderr",
     "output_type": "stream",
     "text": [
      "Query complete after 0.00s: 100%|██████████| 1/1 [00:00<00:00, 781.06query/s] \n",
      "Downloading: 100%|██████████| 7/7 [00:01<00:00,  5.99rows/s]\n"
     ]
    }
   ],
   "source": [
    "%%bigquery trips_by_day_c\n",
    "select \n",
    "Extract (dayofweek from start_date) as trip_day,\n",
    "Count(*) as trips\n",
    "FROM `bigquery-public-data`.san_francisco.bikeshare_trips\n",
    "Where subscriber_type='Customer'\n",
    "group by trip_day\n",
    "order by trips desc;"
   ]
  },
  {
   "cell_type": "code",
   "execution_count": 285,
   "id": "a8079f26",
   "metadata": {},
   "outputs": [
    {
     "data": {
      "text/plain": [
       "Text(0.5, 1.0, 'Customer Trips in the Week')"
      ]
     },
     "execution_count": 285,
     "metadata": {},
     "output_type": "execute_result"
    },
    {
     "data": {
      "image/png": "[encoded data removed]",
      "text/plain": [
       "<Figure size 432x288 with 1 Axes>"
      ]
     },
     "metadata": {
      "needs_background": "light"
     },
     "output_type": "display_data"
    }
   ],
   "source": [
    "#trips_by_day\n",
    "sns.barplot(x = 'trip_day', y = 'trips', data = trips_by_day_c)\n",
    "plt.title(\"Customer Trips in the Week\")"
   ]
  },
  {
   "cell_type": "markdown",
   "id": "05d2887b",
   "metadata": {},
   "source": [
    "### Based on the daily trips taken by subscribers, there seems to be an interesting pattern. While subscribers take more trips during the week, customers take more on the weekends."
   ]
  },
  {
   "cell_type": "code",
   "execution_count": 35,
   "id": "1b09b5e9",
   "metadata": {},
   "outputs": [
    {
     "name": "stderr",
     "output_type": "stream",
     "text": [
      "Query complete after 0.00s: 100%|██████████| 3/3 [00:00<00:00, 1498.14query/s]                        \n",
      "Downloading: 100%|██████████| 5/5 [00:01<00:00,  4.14rows/s]\n"
     ]
    }
   ],
   "source": [
    "%%bigquery docks_by_station\n",
    "select name, dockcount\n",
    "FROM `bigquery-public-data`.san_francisco.bikeshare_stations\n",
    "group by name, dockcount\n",
    "order by dockcount desc\n",
    "limit 5;"
   ]
  },
  {
   "cell_type": "code",
   "execution_count": 38,
   "id": "3b907327",
   "metadata": {},
   "outputs": [
    {
     "data": {
      "text/plain": [
       "Text(0.5, 1.0, 'Top 5 Docking Stations')"
      ]
     },
     "execution_count": 38,
     "metadata": {},
     "output_type": "execute_result"
    },
    {
     "data": {
      "image/png": "[encoded data removed]",
      "text/plain": [
       "<Figure size 1440x576 with 1 Axes>"
      ]
     },
     "metadata": {},
     "output_type": "display_data"
    }
   ],
   "source": [
    "#docks_by_station.bar(name, dockcount)\n",
    "#fig_dims = (30, 4)\n",
    "#fig, ax = plt.subplots(figsize=fig_dims)\n",
    "sns.set(rc = {'figure.figsize':(20,8)})\n",
    "sns.barplot(x = 'name', y = 'dockcount',data = docks_by_station)\n",
    "plt.title(\"Top 5 Docking Stations\")\n",
    " "
   ]
  },
  {
   "cell_type": "markdown",
   "id": "f5dfcfbd",
   "metadata": {},
   "source": [
    "### The above chart shows the top 5 locations with the most docking stations. Interesting to note that not all top 5 commuter trip stations are on here. \n"
   ]
  },
  {
   "cell_type": "code",
   "execution_count": 46,
   "id": "569403d8",
   "metadata": {},
   "outputs": [
    {
     "name": "stderr",
     "output_type": "stream",
     "text": [
      "Query complete after 0.00s: 100%|██████████| 3/3 [00:00<00:00, 1461.09query/s]                        \n",
      "Downloading: 100%|██████████| 8/8 [00:01<00:00,  5.67rows/s]\n"
     ]
    }
   ],
   "source": [
    "%%bigquery docks_by_station\n",
    "select name, dockcount\n",
    "FROM `bigquery-public-data`.san_francisco.bikeshare_stations\n",
    "where name like '%train%'\n",
    "group by name, dockcount\n",
    "order by dockcount desc;"
   ]
  },
  {
   "cell_type": "code",
   "execution_count": 47,
   "id": "e57d3e88",
   "metadata": {},
   "outputs": [
    {
     "data": {
      "text/html": [
       "<div>\n",
       "<style scoped>\n",
       "    .dataframe tbody tr th:only-of-type {\n",
       "        vertical-align: middle;\n",
       "    }\n",
       "\n",
       "    .dataframe tbody tr th {\n",
       "        vertical-align: top;\n",
       "    }\n",
       "\n",
       "    .dataframe thead th {\n",
       "        text-align: right;\n",
       "    }\n",
       "</style>\n",
       "<table border=\"1\" class=\"dataframe\">\n",
       "  <thead>\n",
       "    <tr style=\"text-align: right;\">\n",
       "      <th></th>\n",
       "      <th>name</th>\n",
       "      <th>dockcount</th>\n",
       "    </tr>\n",
       "  </thead>\n",
       "  <tbody>\n",
       "    <tr>\n",
       "      <th>0</th>\n",
       "      <td>San Jose Diridon Caltrain Station</td>\n",
       "      <td>27</td>\n",
       "    </tr>\n",
       "    <tr>\n",
       "      <th>1</th>\n",
       "      <td>Redwood City Caltrain Station</td>\n",
       "      <td>25</td>\n",
       "    </tr>\n",
       "    <tr>\n",
       "      <th>2</th>\n",
       "      <td>Palo Alto Caltrain Station</td>\n",
       "      <td>23</td>\n",
       "    </tr>\n",
       "    <tr>\n",
       "      <th>3</th>\n",
       "      <td>San Antonio Caltrain Station</td>\n",
       "      <td>23</td>\n",
       "    </tr>\n",
       "    <tr>\n",
       "      <th>4</th>\n",
       "      <td>Mountain View Caltrain Station</td>\n",
       "      <td>23</td>\n",
       "    </tr>\n",
       "    <tr>\n",
       "      <th>5</th>\n",
       "      <td>San Francisco Caltrain 2 (330 Townsend)</td>\n",
       "      <td>23</td>\n",
       "    </tr>\n",
       "    <tr>\n",
       "      <th>6</th>\n",
       "      <td>San Francisco Caltrain (Townsend at 4th)</td>\n",
       "      <td>19</td>\n",
       "    </tr>\n",
       "    <tr>\n",
       "      <th>7</th>\n",
       "      <td>California Ave Caltrain Station</td>\n",
       "      <td>15</td>\n",
       "    </tr>\n",
       "  </tbody>\n",
       "</table>\n",
       "</div>"
      ],
      "text/plain": [
       "                                       name  dockcount\n",
       "0         San Jose Diridon Caltrain Station         27\n",
       "1             Redwood City Caltrain Station         25\n",
       "2                Palo Alto Caltrain Station         23\n",
       "3              San Antonio Caltrain Station         23\n",
       "4            Mountain View Caltrain Station         23\n",
       "5   San Francisco Caltrain 2 (330 Townsend)         23\n",
       "6  San Francisco Caltrain (Townsend at 4th)         19\n",
       "7           California Ave Caltrain Station         15"
      ]
     },
     "execution_count": 47,
     "metadata": {},
     "output_type": "execute_result"
    }
   ],
   "source": [
    "docks_by_station"
   ]
  },
  {
   "cell_type": "markdown",
   "id": "da4291b0",
   "metadata": {},
   "source": [
    "### Additionally, the train sessions being the most popular, have relatively less docks than the other locations."
   ]
  },
  {
   "cell_type": "markdown",
   "id": "88067464",
   "metadata": {},
   "source": [
    "I defined a commuter trip as follows:\n",
    "\n",
    "a) A trip taken during rush hour- between hours of 7-9am and 4-7pm from Monday-Friday. \n",
    "\n",
    "b) A trip where the starting station and ending stations are different.\n",
    " "
   ]
  },
  {
   "cell_type": "markdown",
   "id": "9f2b72c9",
   "metadata": {},
   "source": [
    "## 5 most popular trips that are commuter trips:\n",
    "    \n",
    "1. From San Francisco Caltrain 2 (330 Townsend) to Townsend at 7th : 5472 trips\n",
    "2. From 2nd at Townsend to Harry Bridges Plaza (Ferry Building): 5147 trips\n",
    "3. From Harry Bridges Plaza (Ferry Building) to 2nd at Townsend: 5028 trips\n",
    "4. From Embarcadero at Sansome to Steuart at Market: 4913 trip\n",
    "5. From Embarcadero at Folsom to San Francisco Caltrain (Townsend at 4th): 4775 trips\n",
    "\n",
    "Additionally, all these were from subscriber accounts versus customer, with all less than 10 minutes of travel time."
   ]
  },
  {
   "cell_type": "markdown",
   "id": "21946f30",
   "metadata": {},
   "source": [
    "## Recommendations:\n",
    "    \n",
    "   1. Since overall, less trips take place from September on, one recommendation is to offer a discount for single trips. Consider offering a free ride for every 20 rides or so, this may persuade people to take more rides on these months and will also help to increase revenue.\n",
    "    \n",
    "   2. Based on the analysis, majority of the commuters are subscribers. Keeping the current subscription service is a good idea especially since 45 minutes is included in the membership and on average these subscribers have a 10min commute time.  On the flip side, since customers don't use it as much, offering the discount or free ride incentive as mentioned in #1, may convince them to subscribe.\n",
    "    \n",
    "   3. There may also be opportunity to offer special rate for users who take trips early morning or late evening, which from above analysis shows the where the dip in trips occur. Something like an early bird special or a red eye discount may attract users and spread out the \"business\" during rush hour.\n",
    "    \n",
    "   4. Since customers are utilizing the bikes less than subscribers and because they use it more on the weekend, there may be an opportunity to offer weekend promotions to gain even more traction among customers.\n",
    "    \n",
    "   5. I will also recommend adding more docking stations in the areas that have the most traffic. As menioned above, not all top 5 commuter trip stations necessarily have the most docking stations. The SF caltrain is the most popular starting station yet has fewer docks available. Increasing docking stations in heavy traffic locations can allow more users to take advantage of the bikes, which can open doors for more customers to sign up. \n"
   ]
  },
  {
   "cell_type": "code",
   "execution_count": null,
   "id": "53fd68c7",
   "metadata": {},
   "outputs": [],
   "source": []
  }
 ],
 "metadata": {
  "environment": {
   "name": "common-cpu.m78",
   "type": "gcloud",
   "uri": "gcr.io/deeplearning-platform-release/base-cpu:m78"
  },
  "kernelspec": {
   "display_name": "Python 3",
   "language": "python",
   "name": "python3"
  },
  "language_info": {
   "codemirror_mode": {
    "name": "ipython",
    "version": 3
   },
   "file_extension": ".py",
   "mimetype": "text/x-python",
   "name": "python",
   "nbconvert_exporter": "python",
   "pygments_lexer": "ipython3",
   "version": "3.7.10"
  }
 },
 "nbformat": 4,
 "nbformat_minor": 5
}
